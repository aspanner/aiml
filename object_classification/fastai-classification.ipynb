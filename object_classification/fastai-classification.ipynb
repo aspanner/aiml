#hide
! [ -e /content ] && pip install -Uqq fastbook
import fastbook
fastbook.setup_book()
